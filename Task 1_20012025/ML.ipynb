{
 "cells": [
  {
   "cell_type": "code",
   "execution_count": 131,
   "id": "925bbecc-3fdf-42f4-9cb3-8fdf57ce16f5",
   "metadata": {},
   "outputs": [],
   "source": [
    "import pandas as pd\n",
    "import numpy as np\n",
    "\n",
    "import matplotlib.pyplot as plt\n",
    "from datetime import datetime\n",
    "import time\n",
    "import seaborn as sns"
   ]
  },
  {
   "cell_type": "code",
   "execution_count": 134,
   "id": "50a8a1bc-e079-411f-bad9-f8ac914ea18f",
   "metadata": {},
   "outputs": [],
   "source": [
    "test = pd.read_csv('test_BdBKkAj.csv')\n",
    "train = pd.read_csv('train_aWnotuB.csv')"
   ]
  },
  {
   "cell_type": "code",
   "execution_count": 135,
   "id": "f9f209ca-b2b7-4499-8af8-3ca2235d844a",
   "metadata": {},
   "outputs": [
    {
     "name": "stdout",
     "output_type": "stream",
     "text": [
      "<class 'pandas.core.frame.DataFrame'>\n",
      "RangeIndex: 11808 entries, 0 to 11807\n",
      "Data columns (total 3 columns):\n",
      " #   Column    Non-Null Count  Dtype \n",
      "---  ------    --------------  ----- \n",
      " 0   DateTime  11808 non-null  object\n",
      " 1   Junction  11808 non-null  int64 \n",
      " 2   ID        11808 non-null  int64 \n",
      "dtypes: int64(2), object(1)\n",
      "memory usage: 276.9+ KB\n",
      "<class 'pandas.core.frame.DataFrame'>\n",
      "RangeIndex: 48120 entries, 0 to 48119\n",
      "Data columns (total 4 columns):\n",
      " #   Column    Non-Null Count  Dtype \n",
      "---  ------    --------------  ----- \n",
      " 0   DateTime  48120 non-null  object\n",
      " 1   Junction  48120 non-null  int64 \n",
      " 2   Vehicles  48120 non-null  int64 \n",
      " 3   ID        48120 non-null  int64 \n",
      "dtypes: int64(3), object(1)\n",
      "memory usage: 1.5+ MB\n"
     ]
    },
    {
     "data": {
      "text/plain": [
       "(None, None)"
      ]
     },
     "execution_count": 135,
     "metadata": {},
     "output_type": "execute_result"
    }
   ],
   "source": [
    "test.info(), train.info()"
   ]
  },
  {
   "cell_type": "code",
   "execution_count": 136,
   "id": "b834e9bd-8990-4ff5-852f-b7c897d560a7",
   "metadata": {},
   "outputs": [
    {
     "name": "stdout",
     "output_type": "stream",
     "text": [
      "TEST\n",
      "              DateTime  Junction           ID\n",
      "0  2017-07-01 00:00:00         1  20170701001\n",
      "1  2017-07-01 01:00:00         1  20170701011\n",
      "2  2017-07-01 02:00:00         1  20170701021\n",
      "3  2017-07-01 03:00:00         1  20170701031\n",
      "4  2017-07-01 04:00:00         1  20170701041\n",
      "TRAIN\n",
      "              DateTime  Junction  Vehicles           ID\n",
      "0  2015-11-01 00:00:00         1        15  20151101001\n",
      "1  2015-11-01 01:00:00         1        13  20151101011\n",
      "2  2015-11-01 02:00:00         1        10  20151101021\n",
      "3  2015-11-01 03:00:00         1         7  20151101031\n",
      "4  2015-11-01 04:00:00         1         9  20151101041\n"
     ]
    }
   ],
   "source": [
    "print(\"TEST\")\n",
    "print(test.head())\n",
    "print(\"TRAIN\")\n",
    "print(train.head())"
   ]
  },
  {
   "cell_type": "code",
   "execution_count": 137,
   "id": "9ea992c0-c195-46e2-adff-832e6975b300",
   "metadata": {},
   "outputs": [
    {
     "data": {
      "text/plain": [
       "48120"
      ]
     },
     "execution_count": 137,
     "metadata": {},
     "output_type": "execute_result"
    }
   ],
   "source": [
    "train.drop_duplicates(keep=\"first\",inplace=True)\n",
    "train.shape[0]"
   ]
  },
  {
   "cell_type": "code",
   "execution_count": 138,
   "id": "4c2ed5bd-5ae2-4320-aef7-ab5af541b9fa",
   "metadata": {},
   "outputs": [
    {
     "name": "stdout",
     "output_type": "stream",
     "text": [
      "No misssing value TRAIN\n",
      "No misssing value TEST\n"
     ]
    }
   ],
   "source": [
    "if(train.isnull().sum().sum()==0):\n",
    "    print(\"No misssing value TRAIN\")\n",
    "else:\n",
    "    train.fillna(method='ffill',inplace=True)\n",
    "if(test.isnull().sum().sum()==0):\n",
    "    print(\"No misssing value TEST\")\n",
    "else:\n",
    "    test.fillna(method='ffill',inplace=True)"
   ]
  },
  {
   "cell_type": "code",
   "execution_count": 139,
   "id": "4d8b728b-51a6-48b9-908a-06588695f099",
   "metadata": {},
   "outputs": [
    {
     "data": {
      "text/plain": [
       "(DateTime    datetime64[ns]\n",
       " Junction             int64\n",
       " Vehicles             int64\n",
       " ID                   int64\n",
       " dtype: object,\n",
       " DateTime    datetime64[ns]\n",
       " Junction             int64\n",
       " ID                   int64\n",
       " dtype: object)"
      ]
     },
     "execution_count": 139,
     "metadata": {},
     "output_type": "execute_result"
    }
   ],
   "source": [
    "train['DateTime'] = pd.to_datetime(train['DateTime'])\n",
    "test['DateTime'] = pd.to_datetime(test['DateTime'])\n",
    "train.dtypes,test.dtypes"
   ]
  },
  {
   "cell_type": "code",
   "execution_count": 140,
   "id": "5b03c57c-ed0d-4be8-bc9c-6a4df444a141",
   "metadata": {},
   "outputs": [],
   "source": [
    "train[\"Year\"]= train['DateTime'].dt.year  \n",
    "train[\"Month\"]= train['DateTime'].dt.month  \n",
    "train[\"Date\"]= train['DateTime'].dt.day  \n",
    "train[\"Hour\"]= train['DateTime'].dt.hour  \n",
    "train[\"Day\"]= train['DateTime'].dt.dayofweek\n",
    "\n",
    "test[\"Year\"]= test['DateTime'].dt.year  \n",
    "test[\"Month\"]= test['DateTime'].dt.month  \n",
    "test[\"Date\"]= test['DateTime'].dt.day  \n",
    "test[\"Hour\"]= test['DateTime'].dt.hour  \n",
    "test[\"Day\"]= test['DateTime'].dt.dayofweek"
   ]
  },
  {
   "cell_type": "code",
   "execution_count": 141,
   "id": "657c1acd-4899-40bf-918f-811369e8ffbe",
   "metadata": {},
   "outputs": [
    {
     "data": {
      "text/html": [
       "<div>\n",
       "<style scoped>\n",
       "    .dataframe tbody tr th:only-of-type {\n",
       "        vertical-align: middle;\n",
       "    }\n",
       "\n",
       "    .dataframe tbody tr th {\n",
       "        vertical-align: top;\n",
       "    }\n",
       "\n",
       "    .dataframe thead th {\n",
       "        text-align: right;\n",
       "    }\n",
       "</style>\n",
       "<table border=\"1\" class=\"dataframe\">\n",
       "  <thead>\n",
       "    <tr style=\"text-align: right;\">\n",
       "      <th></th>\n",
       "      <th>DateTime</th>\n",
       "      <th>Junction</th>\n",
       "      <th>Vehicles</th>\n",
       "      <th>ID</th>\n",
       "      <th>Year</th>\n",
       "      <th>Month</th>\n",
       "      <th>Date</th>\n",
       "      <th>Hour</th>\n",
       "      <th>Day</th>\n",
       "    </tr>\n",
       "  </thead>\n",
       "  <tbody>\n",
       "    <tr>\n",
       "      <th>13859</th>\n",
       "      <td>2017-05-31 11:00:00</td>\n",
       "      <td>1</td>\n",
       "      <td>100</td>\n",
       "      <td>20170531111</td>\n",
       "      <td>2017</td>\n",
       "      <td>5</td>\n",
       "      <td>31</td>\n",
       "      <td>11</td>\n",
       "      <td>2</td>\n",
       "    </tr>\n",
       "    <tr>\n",
       "      <th>25741</th>\n",
       "      <td>2017-02-07 13:00:00</td>\n",
       "      <td>2</td>\n",
       "      <td>20</td>\n",
       "      <td>20170207132</td>\n",
       "      <td>2017</td>\n",
       "      <td>2</td>\n",
       "      <td>7</td>\n",
       "      <td>13</td>\n",
       "      <td>1</td>\n",
       "    </tr>\n",
       "    <tr>\n",
       "      <th>5755</th>\n",
       "      <td>2016-06-27 19:00:00</td>\n",
       "      <td>1</td>\n",
       "      <td>60</td>\n",
       "      <td>20160627191</td>\n",
       "      <td>2016</td>\n",
       "      <td>6</td>\n",
       "      <td>27</td>\n",
       "      <td>19</td>\n",
       "      <td>0</td>\n",
       "    </tr>\n",
       "    <tr>\n",
       "      <th>30751</th>\n",
       "      <td>2016-01-05 07:00:00</td>\n",
       "      <td>3</td>\n",
       "      <td>4</td>\n",
       "      <td>20160105073</td>\n",
       "      <td>2016</td>\n",
       "      <td>1</td>\n",
       "      <td>5</td>\n",
       "      <td>7</td>\n",
       "      <td>1</td>\n",
       "    </tr>\n",
       "    <tr>\n",
       "      <th>20514</th>\n",
       "      <td>2016-07-04 18:00:00</td>\n",
       "      <td>2</td>\n",
       "      <td>18</td>\n",
       "      <td>20160704182</td>\n",
       "      <td>2016</td>\n",
       "      <td>7</td>\n",
       "      <td>4</td>\n",
       "      <td>18</td>\n",
       "      <td>0</td>\n",
       "    </tr>\n",
       "  </tbody>\n",
       "</table>\n",
       "</div>"
      ],
      "text/plain": [
       "                 DateTime  Junction  Vehicles           ID  Year  Month  Date  \\\n",
       "13859 2017-05-31 11:00:00         1       100  20170531111  2017      5    31   \n",
       "25741 2017-02-07 13:00:00         2        20  20170207132  2017      2     7   \n",
       "5755  2016-06-27 19:00:00         1        60  20160627191  2016      6    27   \n",
       "30751 2016-01-05 07:00:00         3         4  20160105073  2016      1     5   \n",
       "20514 2016-07-04 18:00:00         2        18  20160704182  2016      7     4   \n",
       "\n",
       "       Hour  Day  \n",
       "13859    11    2  \n",
       "25741    13    1  \n",
       "5755     19    0  \n",
       "30751     7    1  \n",
       "20514    18    0  "
      ]
     },
     "execution_count": 141,
     "metadata": {},
     "output_type": "execute_result"
    }
   ],
   "source": [
    "train.sample(5)"
   ]
  },
  {
   "cell_type": "code",
   "execution_count": 142,
   "id": "b511d10c-7280-4d38-ab55-17636ca2a299",
   "metadata": {},
   "outputs": [
    {
     "data": {
      "text/html": [
       "<div>\n",
       "<style scoped>\n",
       "    .dataframe tbody tr th:only-of-type {\n",
       "        vertical-align: middle;\n",
       "    }\n",
       "\n",
       "    .dataframe tbody tr th {\n",
       "        vertical-align: top;\n",
       "    }\n",
       "\n",
       "    .dataframe thead th {\n",
       "        text-align: right;\n",
       "    }\n",
       "</style>\n",
       "<table border=\"1\" class=\"dataframe\">\n",
       "  <thead>\n",
       "    <tr style=\"text-align: right;\">\n",
       "      <th></th>\n",
       "      <th>DateTime</th>\n",
       "      <th>Junction</th>\n",
       "      <th>ID</th>\n",
       "      <th>Year</th>\n",
       "      <th>Month</th>\n",
       "      <th>Date</th>\n",
       "      <th>Hour</th>\n",
       "      <th>Day</th>\n",
       "    </tr>\n",
       "  </thead>\n",
       "  <tbody>\n",
       "    <tr>\n",
       "      <th>4751</th>\n",
       "      <td>2017-09-13 23:00:00</td>\n",
       "      <td>2</td>\n",
       "      <td>20170913232</td>\n",
       "      <td>2017</td>\n",
       "      <td>9</td>\n",
       "      <td>13</td>\n",
       "      <td>23</td>\n",
       "      <td>2</td>\n",
       "    </tr>\n",
       "    <tr>\n",
       "      <th>7620</th>\n",
       "      <td>2017-09-10 12:00:00</td>\n",
       "      <td>3</td>\n",
       "      <td>20170910123</td>\n",
       "      <td>2017</td>\n",
       "      <td>9</td>\n",
       "      <td>10</td>\n",
       "      <td>12</td>\n",
       "      <td>6</td>\n",
       "    </tr>\n",
       "    <tr>\n",
       "      <th>7938</th>\n",
       "      <td>2017-09-23 18:00:00</td>\n",
       "      <td>3</td>\n",
       "      <td>20170923183</td>\n",
       "      <td>2017</td>\n",
       "      <td>9</td>\n",
       "      <td>23</td>\n",
       "      <td>18</td>\n",
       "      <td>5</td>\n",
       "    </tr>\n",
       "    <tr>\n",
       "      <th>7588</th>\n",
       "      <td>2017-09-09 04:00:00</td>\n",
       "      <td>3</td>\n",
       "      <td>20170909043</td>\n",
       "      <td>2017</td>\n",
       "      <td>9</td>\n",
       "      <td>9</td>\n",
       "      <td>4</td>\n",
       "      <td>5</td>\n",
       "    </tr>\n",
       "    <tr>\n",
       "      <th>9365</th>\n",
       "      <td>2017-07-22 05:00:00</td>\n",
       "      <td>4</td>\n",
       "      <td>20170722054</td>\n",
       "      <td>2017</td>\n",
       "      <td>7</td>\n",
       "      <td>22</td>\n",
       "      <td>5</td>\n",
       "      <td>5</td>\n",
       "    </tr>\n",
       "  </tbody>\n",
       "</table>\n",
       "</div>"
      ],
      "text/plain": [
       "                DateTime  Junction           ID  Year  Month  Date  Hour  Day\n",
       "4751 2017-09-13 23:00:00         2  20170913232  2017      9    13    23    2\n",
       "7620 2017-09-10 12:00:00         3  20170910123  2017      9    10    12    6\n",
       "7938 2017-09-23 18:00:00         3  20170923183  2017      9    23    18    5\n",
       "7588 2017-09-09 04:00:00         3  20170909043  2017      9     9     4    5\n",
       "9365 2017-07-22 05:00:00         4  20170722054  2017      7    22     5    5"
      ]
     },
     "execution_count": 142,
     "metadata": {},
     "output_type": "execute_result"
    }
   ],
   "source": [
    "test.sample(5)"
   ]
  },
  {
   "cell_type": "code",
   "execution_count": 143,
   "id": "930914fa-84ac-43ba-8d6c-7ae99fd0552d",
   "metadata": {},
   "outputs": [],
   "source": [
    "train = train.drop(columns=['DateTime','ID'])\n",
    "test = test.drop(columns=['DateTime','ID'])"
   ]
  },
  {
   "cell_type": "code",
   "execution_count": 144,
   "id": "753305bf-1859-498d-8920-a4cadb1e7ddb",
   "metadata": {},
   "outputs": [
    {
     "data": {
      "text/html": [
       "<div>\n",
       "<style scoped>\n",
       "    .dataframe tbody tr th:only-of-type {\n",
       "        vertical-align: middle;\n",
       "    }\n",
       "\n",
       "    .dataframe tbody tr th {\n",
       "        vertical-align: top;\n",
       "    }\n",
       "\n",
       "    .dataframe thead th {\n",
       "        text-align: right;\n",
       "    }\n",
       "</style>\n",
       "<table border=\"1\" class=\"dataframe\">\n",
       "  <thead>\n",
       "    <tr style=\"text-align: right;\">\n",
       "      <th></th>\n",
       "      <th>Junction</th>\n",
       "      <th>Vehicles</th>\n",
       "      <th>Year</th>\n",
       "      <th>Month</th>\n",
       "      <th>Date</th>\n",
       "      <th>Hour</th>\n",
       "      <th>Day</th>\n",
       "    </tr>\n",
       "  </thead>\n",
       "  <tbody>\n",
       "    <tr>\n",
       "      <th>0</th>\n",
       "      <td>1</td>\n",
       "      <td>15</td>\n",
       "      <td>2015</td>\n",
       "      <td>11</td>\n",
       "      <td>1</td>\n",
       "      <td>0</td>\n",
       "      <td>6</td>\n",
       "    </tr>\n",
       "    <tr>\n",
       "      <th>1</th>\n",
       "      <td>1</td>\n",
       "      <td>13</td>\n",
       "      <td>2015</td>\n",
       "      <td>11</td>\n",
       "      <td>1</td>\n",
       "      <td>1</td>\n",
       "      <td>6</td>\n",
       "    </tr>\n",
       "    <tr>\n",
       "      <th>2</th>\n",
       "      <td>1</td>\n",
       "      <td>10</td>\n",
       "      <td>2015</td>\n",
       "      <td>11</td>\n",
       "      <td>1</td>\n",
       "      <td>2</td>\n",
       "      <td>6</td>\n",
       "    </tr>\n",
       "    <tr>\n",
       "      <th>3</th>\n",
       "      <td>1</td>\n",
       "      <td>7</td>\n",
       "      <td>2015</td>\n",
       "      <td>11</td>\n",
       "      <td>1</td>\n",
       "      <td>3</td>\n",
       "      <td>6</td>\n",
       "    </tr>\n",
       "    <tr>\n",
       "      <th>4</th>\n",
       "      <td>1</td>\n",
       "      <td>9</td>\n",
       "      <td>2015</td>\n",
       "      <td>11</td>\n",
       "      <td>1</td>\n",
       "      <td>4</td>\n",
       "      <td>6</td>\n",
       "    </tr>\n",
       "  </tbody>\n",
       "</table>\n",
       "</div>"
      ],
      "text/plain": [
       "   Junction  Vehicles  Year  Month  Date  Hour  Day\n",
       "0         1        15  2015     11     1     0    6\n",
       "1         1        13  2015     11     1     1    6\n",
       "2         1        10  2015     11     1     2    6\n",
       "3         1         7  2015     11     1     3    6\n",
       "4         1         9  2015     11     1     4    6"
      ]
     },
     "execution_count": 144,
     "metadata": {},
     "output_type": "execute_result"
    }
   ],
   "source": [
    "train.head()"
   ]
  },
  {
   "cell_type": "code",
   "execution_count": 145,
   "id": "9e8027d7-43a2-47f4-92a1-e2b0d5b127bc",
   "metadata": {},
   "outputs": [
    {
     "data": {
      "text/html": [
       "<div>\n",
       "<style scoped>\n",
       "    .dataframe tbody tr th:only-of-type {\n",
       "        vertical-align: middle;\n",
       "    }\n",
       "\n",
       "    .dataframe tbody tr th {\n",
       "        vertical-align: top;\n",
       "    }\n",
       "\n",
       "    .dataframe thead th {\n",
       "        text-align: right;\n",
       "    }\n",
       "</style>\n",
       "<table border=\"1\" class=\"dataframe\">\n",
       "  <thead>\n",
       "    <tr style=\"text-align: right;\">\n",
       "      <th></th>\n",
       "      <th>Junction</th>\n",
       "      <th>Year</th>\n",
       "      <th>Month</th>\n",
       "      <th>Date</th>\n",
       "      <th>Hour</th>\n",
       "      <th>Day</th>\n",
       "    </tr>\n",
       "  </thead>\n",
       "  <tbody>\n",
       "    <tr>\n",
       "      <th>0</th>\n",
       "      <td>1</td>\n",
       "      <td>2017</td>\n",
       "      <td>7</td>\n",
       "      <td>1</td>\n",
       "      <td>0</td>\n",
       "      <td>5</td>\n",
       "    </tr>\n",
       "    <tr>\n",
       "      <th>1</th>\n",
       "      <td>1</td>\n",
       "      <td>2017</td>\n",
       "      <td>7</td>\n",
       "      <td>1</td>\n",
       "      <td>1</td>\n",
       "      <td>5</td>\n",
       "    </tr>\n",
       "    <tr>\n",
       "      <th>2</th>\n",
       "      <td>1</td>\n",
       "      <td>2017</td>\n",
       "      <td>7</td>\n",
       "      <td>1</td>\n",
       "      <td>2</td>\n",
       "      <td>5</td>\n",
       "    </tr>\n",
       "    <tr>\n",
       "      <th>3</th>\n",
       "      <td>1</td>\n",
       "      <td>2017</td>\n",
       "      <td>7</td>\n",
       "      <td>1</td>\n",
       "      <td>3</td>\n",
       "      <td>5</td>\n",
       "    </tr>\n",
       "    <tr>\n",
       "      <th>4</th>\n",
       "      <td>1</td>\n",
       "      <td>2017</td>\n",
       "      <td>7</td>\n",
       "      <td>1</td>\n",
       "      <td>4</td>\n",
       "      <td>5</td>\n",
       "    </tr>\n",
       "  </tbody>\n",
       "</table>\n",
       "</div>"
      ],
      "text/plain": [
       "   Junction  Year  Month  Date  Hour  Day\n",
       "0         1  2017      7     1     0    5\n",
       "1         1  2017      7     1     1    5\n",
       "2         1  2017      7     1     2    5\n",
       "3         1  2017      7     1     3    5\n",
       "4         1  2017      7     1     4    5"
      ]
     },
     "execution_count": 145,
     "metadata": {},
     "output_type": "execute_result"
    }
   ],
   "source": [
    "test.head()"
   ]
  },
  {
   "cell_type": "code",
   "execution_count": 152,
   "id": "f629d43e-9392-418d-a6d3-16f0b2dd670b",
   "metadata": {},
   "outputs": [],
   "source": [
    "from sklearn.preprocessing import *\n",
    "from sklearn.model_selection import train_test_split\n",
    "from sklearn.metrics import *\n",
    "from lightgbm import LGBMRegressor\n",
    "from xgboost import XGBRegressor\n",
    "from sklearn.ensemble import RandomForestRegressor\n",
    "from sklearn.metrics import mean_squared_error, mean_absolute_error"
   ]
  },
  {
   "cell_type": "markdown",
   "id": "4f4d0b31-b22f-43d3-80c9-050f6cf80c61",
   "metadata": {},
   "source": [
    "### RANDOM FOREST"
   ]
  },
  {
   "cell_type": "code",
   "execution_count": 153,
   "id": "9fe3cf5c-4220-4c99-a3d6-753ebb5a2b86",
   "metadata": {},
   "outputs": [
    {
     "name": "stdout",
     "output_type": "stream",
     "text": [
      "Train size: x:38496 and y:38496\n"
     ]
    }
   ],
   "source": [
    "X = train.drop(columns=['Vehicles'])\n",
    "y = train['Vehicles']\n",
    "X_train, X_val, y_train, y_val = train_test_split(X, y, test_size=0.2, random_state=42)\n",
    "\n",
    "print(f\"Train size: x:{len(X_train)} and y:{len(y_train)}\")"
   ]
  },
  {
   "cell_type": "code",
   "execution_count": 154,
   "id": "479c0487-63cf-4cc9-8fa8-488c435d0422",
   "metadata": {},
   "outputs": [
    {
     "data": {
      "text/plain": [
       "(26.025951621794942, 3.0953516129844845)"
      ]
     },
     "execution_count": 154,
     "metadata": {},
     "output_type": "execute_result"
    }
   ],
   "source": [
    "random_forest_model = RandomForestRegressor(n_estimators=50,max_depth=10 ,random_state=42)\n",
    "random_forest_model.fit(X_train,y_train)\n",
    "pred = random_forest_model.predict(X_val)\n",
    "mse = mean_squared_error(y_val, pred)\n",
    "mae = mean_absolute_error(y_val, pred)\n",
    "mse,mae"
   ]
  },
  {
   "cell_type": "code",
   "execution_count": 149,
   "id": "347b6a18-1c50-4d3f-87de-312aa2f612c6",
   "metadata": {},
   "outputs": [
    {
     "data": {
      "text/plain": [
       "0.9361399593817984"
      ]
     },
     "execution_count": 149,
     "metadata": {},
     "output_type": "execute_result"
    }
   ],
   "source": [
    "r2 = r2_score(y_val, pred)\n",
    "r2"
   ]
  },
  {
   "cell_type": "markdown",
   "id": "a6de1fce-9a80-49a0-bcf5-ac4919b41ab4",
   "metadata": {},
   "source": [
    "### LGBM"
   ]
  },
  {
   "cell_type": "code",
   "execution_count": 155,
   "id": "e41efc78-84ba-4850-9059-6b734df262d1",
   "metadata": {},
   "outputs": [
    {
     "name": "stdout",
     "output_type": "stream",
     "text": [
      "[LightGBM] [Info] Auto-choosing row-wise multi-threading, the overhead of testing was 0.000360 seconds.\n",
      "You can set `force_row_wise=true` to remove the overhead.\n",
      "And if memory is not enough, you can set `force_col_wise=true`.\n",
      "[LightGBM] [Info] Total Bins 85\n",
      "[LightGBM] [Info] Number of data points in the train set: 38496, number of used features: 6\n",
      "[LightGBM] [Info] Start training from score 22.883598\n"
     ]
    },
    {
     "data": {
      "text/plain": [
       "(22.02870312914759, 0.9459480330619069, 2.8522394796987185)"
      ]
     },
     "execution_count": 155,
     "metadata": {},
     "output_type": "execute_result"
    }
   ],
   "source": [
    "lgbm_model = LGBMRegressor(random_state=42)\n",
    "lgbm_model.fit(X_train,y_train)\n",
    "pred = lgbm_model.predict(X_val)\n",
    "mse = mean_squared_error(y_val,pred)\n",
    "r2 = r2_score(y_val,pred)\n",
    "mae = mean_absolute_error(y_val, pred)\n",
    "mse,r2,mae"
   ]
  },
  {
   "cell_type": "markdown",
   "id": "4ed2eb06-aa02-4035-ba72-4af901f89a0c",
   "metadata": {},
   "source": [
    "### XGBoost"
   ]
  },
  {
   "cell_type": "code",
   "execution_count": 157,
   "id": "5c363751-8bf6-4ad8-ae6d-5bf7d3ac1694",
   "metadata": {},
   "outputs": [
    {
     "name": "stderr",
     "output_type": "stream",
     "text": [
      "C:\\Users\\Admin\\anaconda3\\Lib\\site-packages\\xgboost\\core.py:158: UserWarning: [23:08:37] WARNING: D:\\bld\\xgboost-split_1733179550881\\work\\src\\learner.cc:740: \n",
      "Parameters: { \"n_estimatiors\" } are not used.\n",
      "\n",
      "  warnings.warn(smsg, UserWarning)\n"
     ]
    },
    {
     "data": {
      "text/plain": [
       "(24.072373584765295, 0.9409334659576416, 2.893921015915753)"
      ]
     },
     "execution_count": 157,
     "metadata": {},
     "output_type": "execute_result"
    }
   ],
   "source": [
    "xgb_model = XGBRegressor(learning_rate=0.1,max_depth=6, n_estimatiors=100, random_state=42)\n",
    "xgb_model.fit(X_train,y_train)\n",
    "pred = xgb_model.predict(X_val)\n",
    "mse = mean_squared_error(y_val,pred)\n",
    "r2 = r2_score(y_val,pred)\n",
    "mae = mean_absolute_error(y_val, pred)\n",
    "mse,r2,mae"
   ]
  },
  {
   "cell_type": "code",
   "execution_count": null,
   "id": "86b7e855-4d09-4607-aaaf-e2ac51ed3b06",
   "metadata": {},
   "outputs": [],
   "source": []
  },
  {
   "cell_type": "code",
   "execution_count": null,
   "id": "80b6f2db-8154-4338-b40b-ee2f13811e19",
   "metadata": {},
   "outputs": [],
   "source": []
  }
 ],
 "metadata": {
  "kernelspec": {
   "display_name": "Python 3 (ipykernel)",
   "language": "python",
   "name": "python3"
  },
  "language_info": {
   "codemirror_mode": {
    "name": "ipython",
    "version": 3
   },
   "file_extension": ".py",
   "mimetype": "text/x-python",
   "name": "python",
   "nbconvert_exporter": "python",
   "pygments_lexer": "ipython3",
   "version": "3.12.3"
  }
 },
 "nbformat": 4,
 "nbformat_minor": 5
}
